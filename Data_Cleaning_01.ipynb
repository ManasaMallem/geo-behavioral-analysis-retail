{
 "cells": [
  {
   "cell_type": "code",
   "execution_count": 10,
   "id": "05b0c5b5-cc41-426a-8d42-278eaeb08e21",
   "metadata": {},
   "outputs": [],
   "source": [
    "import pandas as pd\n",
    "\n",
    "# Load datasets\n",
    "customers = pd.read_csv('Datasets/customer_data.csv')\n",
    "stores = pd.read_csv('Datasets/store_locations.csv')\n",
    "demographics = pd.read_csv('Datasets/zip_demographics.csv')\n",
    "\n",
    "# Merge customer and demographics\n",
    "df = customers.merge(demographics, on='zip_code', how='left')\n",
    "\n",
    "# Convert dates and clean missing values\n",
    "df['last_purchase_date'] = pd.to_datetime(df['last_purchase_date'])\n",
    "df = df.dropna()\n",
    "\n",
    "# Save cleaned data\n",
    "df.to_csv('Datasets/cleaned_data.csv', index=False)\n"
   ]
  }
 ],
 "metadata": {
  "kernelspec": {
   "display_name": "Python 3 (ipykernel)",
   "language": "python",
   "name": "python3"
  },
  "language_info": {
   "codemirror_mode": {
    "name": "ipython",
    "version": 3
   },
   "file_extension": ".py",
   "mimetype": "text/x-python",
   "name": "python",
   "nbconvert_exporter": "python",
   "pygments_lexer": "ipython3",
   "version": "3.12.3"
  }
 },
 "nbformat": 4,
 "nbformat_minor": 5
}
