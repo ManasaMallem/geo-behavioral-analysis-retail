{
 "cells": [
  {
   "cell_type": "code",
   "execution_count": 9,
   "id": "e3433f69-62cb-4d48-99bd-0fa5e9ffe331",
   "metadata": {},
   "outputs": [],
   "source": [
    "import pandas as pd\n",
    "\n",
    "# Load your dataset into 'df'\n",
    "df = pd.read_csv('Datasets/cleaned_data.csv')  # Replace with the correct file path\n",
    "\n",
    "#Convert 'last_purchase_date' to datetime if it's not already\n",
    "df['last_purchase_date'] = pd.to_datetime(df['last_purchase_date'])\n",
    "\n",
    "# RFM Analysis\n",
    "df['recency'] = (df['last_purchase_date'].max() - df['last_purchase_date']).dt.days\n",
    "df['frequency'] = df['num_visits']\n",
    "df['monetary'] = df['total_spent']\n",
    "\n",
    "# Simple segmentation\n",
    "def label_loyalty(row):\n",
    "    if row['monetary'] > 1000 and row['frequency'] > 10:\n",
    "        return 'VIP'\n",
    "    elif row['monetary'] > 500:\n",
    "        return 'Loyal'\n",
    "    else:\n",
    "        return 'Casual'\n",
    "\n",
    "df['segment'] = df.apply(label_loyalty, axis=1)\n",
    "df.to_csv('Datasets/Store_segments.csv',index=False)\n"
   ]
  }
 ],
 "metadata": {
  "kernelspec": {
   "display_name": "Python 3 (ipykernel)",
   "language": "python",
   "name": "python3"
  },
  "language_info": {
   "codemirror_mode": {
    "name": "ipython",
    "version": 3
   },
   "file_extension": ".py",
   "mimetype": "text/x-python",
   "name": "python",
   "nbconvert_exporter": "python",
   "pygments_lexer": "ipython3",
   "version": "3.12.3"
  }
 },
 "nbformat": 4,
 "nbformat_minor": 5
}
