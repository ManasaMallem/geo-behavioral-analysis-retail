{
 "cells": [
  {
   "cell_type": "code",
   "execution_count": 2,
   "id": "f766d818-546f-404a-8ebf-9e61226066a9",
   "metadata": {},
   "outputs": [
    {
     "name": "stdout",
     "output_type": "stream",
     "text": [
      "Collecting scikit-learn\n",
      "  Downloading scikit_learn-1.6.1-cp312-cp312-win_amd64.whl.metadata (15 kB)\n",
      "Requirement already satisfied: numpy>=1.19.5 in c:\\users\\mlman\\appdata\\local\\programs\\python\\python312\\lib\\site-packages (from scikit-learn) (1.26.4)\n",
      "Collecting scipy>=1.6.0 (from scikit-learn)\n",
      "  Downloading scipy-1.15.2-cp312-cp312-win_amd64.whl.metadata (60 kB)\n",
      "Collecting joblib>=1.2.0 (from scikit-learn)\n",
      "  Downloading joblib-1.4.2-py3-none-any.whl.metadata (5.4 kB)\n",
      "Collecting threadpoolctl>=3.1.0 (from scikit-learn)\n",
      "  Downloading threadpoolctl-3.6.0-py3-none-any.whl.metadata (13 kB)\n",
      "Downloading scikit_learn-1.6.1-cp312-cp312-win_amd64.whl (11.1 MB)\n",
      "   ---------------------------------------- 0.0/11.1 MB ? eta -:--:--\n",
      "   ------------------ --------------------- 5.2/11.1 MB 31.9 MB/s eta 0:00:01\n",
      "   ---------------------------------------- 11.1/11.1 MB 33.1 MB/s eta 0:00:00\n",
      "Downloading joblib-1.4.2-py3-none-any.whl (301 kB)\n",
      "Downloading scipy-1.15.2-cp312-cp312-win_amd64.whl (40.9 MB)\n",
      "   ---------------------------------------- 0.0/40.9 MB ? eta -:--:--\n",
      "   ------- -------------------------------- 7.3/40.9 MB 37.6 MB/s eta 0:00:01\n",
      "   ----------------- ---------------------- 17.6/40.9 MB 42.6 MB/s eta 0:00:01\n",
      "   -------------------------- ------------- 26.7/40.9 MB 44.6 MB/s eta 0:00:01\n",
      "   ----------------------------------- ---- 36.7/40.9 MB 44.8 MB/s eta 0:00:01\n",
      "   ---------------------------------------- 40.9/40.9 MB 42.7 MB/s eta 0:00:00\n",
      "Downloading threadpoolctl-3.6.0-py3-none-any.whl (18 kB)\n",
      "Installing collected packages: threadpoolctl, scipy, joblib, scikit-learn\n",
      "Successfully installed joblib-1.4.2 scikit-learn-1.6.1 scipy-1.15.2 threadpoolctl-3.6.0\n"
     ]
    }
   ],
   "source": [
    "!pip install scikit-learn"
   ]
  },
  {
   "cell_type": "code",
   "execution_count": 11,
   "id": "e907314f-9824-470c-a8b0-2d2ffb3d7140",
   "metadata": {},
   "outputs": [
    {
     "name": "stdout",
     "output_type": "stream",
     "text": [
      "      city  predicted_spending\n",
      "1  Seattle         2799.601399\n",
      "2   Dallas         2782.036161\n",
      "3  Chicago         2775.461774\n"
     ]
    }
   ],
   "source": [
    "import pandas as pd\n",
    "from sklearn.linear_model import LinearRegression\n",
    "from sklearn.model_selection import train_test_split\n",
    "\n",
    "df = pd.read_csv('Datasets/cleaned_data.csv')\n",
    "\n",
    "features = ['median_income', 'population_density', 'avg_age', 'education_index']\n",
    "target = 'total_spent'\n",
    "\n",
    "X = df[features]\n",
    "y = df[target]\n",
    "\n",
    "X_train, X_test, y_train, y_test = train_test_split(X, y, test_size=0.2)\n",
    "\n",
    "model = LinearRegression()\n",
    "model.fit(X_train, y_train)\n",
    "\n",
    "df['predicted_spending'] = model.predict(X)\n",
    "\n",
    "top_cities = df.groupby('city')['predicted_spending'].mean().sort_values(ascending=False).head(3)\n",
    "\n",
    "# Reset index and start from 1\n",
    "top_cities = top_cities.reset_index()\n",
    "top_cities.columns = ['city', 'predicted_spending']\n",
    "\n",
    "# Adjust index to start from 1\n",
    "top_cities.index = top_cities.index + 1\n",
    "\n",
    "# Display the result\n",
    "print(top_cities)\n",
    "\n"
   ]
  },
  {
   "cell_type": "code",
   "execution_count": null,
   "id": "a8ab85e4-b360-44a9-b839-453a0951d23b",
   "metadata": {},
   "outputs": [],
   "source": []
  }
 ],
 "metadata": {
  "kernelspec": {
   "display_name": "Python 3 (ipykernel)",
   "language": "python",
   "name": "python3"
  },
  "language_info": {
   "codemirror_mode": {
    "name": "ipython",
    "version": 3
   },
   "file_extension": ".py",
   "mimetype": "text/x-python",
   "name": "python",
   "nbconvert_exporter": "python",
   "pygments_lexer": "ipython3",
   "version": "3.12.3"
  }
 },
 "nbformat": 4,
 "nbformat_minor": 5
}
